{
  "nbformat": 4,
  "nbformat_minor": 0,
  "metadata": {
    "colab": {
      "provenance": []
    },
    "kernelspec": {
      "name": "python3",
      "display_name": "Python 3"
    },
    "language_info": {
      "name": "python"
    }
  },
  "cells": [
    {
      "cell_type": "markdown",
      "source": [
        " Write a program that takes two strings from the user: first_name, last_name. Pass these variables to\n",
        "fullname function that should return the (full name)."
      ],
      "metadata": {
        "id": "V6i01v-nvMYY"
      }
    },
    {
      "cell_type": "code",
      "execution_count": 1,
      "metadata": {
        "colab": {
          "base_uri": "https://localhost:8080/"
        },
        "id": "6LFaQ7whvLUu",
        "outputId": "a9440ff0-15eb-40cb-e498-02b508b14071"
      },
      "outputs": [
        {
          "output_type": "stream",
          "name": "stdout",
          "text": [
            "enter first name : Tejaswi\n",
            "enter last name : Pasupuleti\n",
            "User full name :  Tejaswi Pasupuleti\n",
            "Alternate String :  TjsiPsplt\n"
          ]
        }
      ],
      "source": [
        "#Enter the first name by user\n",
        "first_name= input(\"enter first name : \")\n",
        "#Enter the last name by user\n",
        "last_name= input(\"enter last name : \")\n",
        "\n",
        "#full_name is both first name and last name\n",
        "def full_name(first_name,last_name):\n",
        "    return first_name +\" \"+last_name\n",
        "#string_alternative function will prints the data alternatively\n",
        "def string_alternative(full_name):\n",
        "    new_str = \"\"\n",
        "    for index in range(0,len(full_name),2):\n",
        "                       new_str+=full_name[index]\n",
        "    return new_str\n",
        "\n",
        "\n",
        "print(\"User full name : \",full_name(first_name,last_name))\n",
        "\n",
        "print(\"Alternate String : \",string_alternative(full_name(first_name,last_name)))"
      ]
    },
    {
      "cell_type": "markdown",
      "source": [
        "Write a python program to find the wordcount in a file (input.txt) for each line and then print the output.\n",
        "o Finally store the output in output.txt file."
      ],
      "metadata": {
        "id": "qwI_5U_tvSN9"
      }
    },
    {
      "cell_type": "code",
      "source": [
        "#Read the Input file from Home\n",
        "Input_file = open(\"input.txt\", \"r\")\n",
        "#Write the number of words count and split the data from input file\n",
        "output_file = open(\"output.txt\", \"w\")\n",
        "\n",
        "content = {}\n",
        "\n",
        "\n",
        "for line in Input_file:\n",
        "    output_file.write(line)\n",
        "    new_l = line.split()\n",
        "    for x in new_l:\n",
        "        if(content.get(x)==None):\n",
        "            content[x]=1\n",
        "        else:\n",
        "            content[x] = content[x] + 1\n",
        "\n",
        "output_file.write(\" Word_Count : \")\n",
        "for key, value in content.items():\n",
        "        output_file.write('%s:%s\\n' % (key, value))\n",
        "Input_file.close()\n",
        "output_file.close()"
      ],
      "metadata": {
        "id": "5RhM08CsvW5C"
      },
      "execution_count": 2,
      "outputs": []
    },
    {
      "cell_type": "markdown",
      "source": [
        "Write a program, which reads heights (inches.) of customers into a list and convert these\n",
        "heights to centimeters in a separate list using:\n",
        "1) Nested Interactive loop.\n",
        "2) List comprehensions\n"
      ],
      "metadata": {
        "id": "hxnkD7cuvV9g"
      }
    },
    {
      "cell_type": "code",
      "source": [
        "# Method 1: Using Nested Interactive Loop\n",
        "def convert_heights_to_cm_nested(heights_inches):\n",
        "    heights_cm = []\n",
        "    for height in heights_inches:\n",
        "        cm = height * 2.54  # 1 inch = 2.54 cm\n",
        "        heights_cm.append(round(cm, 2))\n",
        "    return heights_cm\n",
        "\n",
        "# Method 2: Using List Comprehension\n",
        "def convert_heights_to_cm_list_comprehension(heights_inches):\n",
        "    return [round(height * 2.54, 2) for height in heights_inches]\n",
        "\n",
        "# Main program\n",
        "if __name__ == \"__main__\":\n",
        "    heights_inches = []\n",
        "    n = int(input(\"Enter the number of customers: \"))\n",
        "\n",
        "    for i in range(n):\n",
        "        height = float(input(f\"Enter the height (inches) of customer {i + 1}: \"))\n",
        "        heights_inches.append(height)\n",
        "\n",
        "    # Using Nested Interactive Loop\n",
        "    heights_cm_nested = convert_heights_to_cm_nested(heights_inches)\n",
        "    print(\"Heights in CM (Using Nested Loop):\", heights_cm_nested)\n",
        "\n",
        "    # Using List Comprehension\n",
        "    heights_cm_comprehension = convert_heights_to_cm_list_comprehension(heights_inches)\n",
        "    print(\"Heights in CM (Using List Comprehension):\", heights_cm_comprehension)"
      ],
      "metadata": {
        "colab": {
          "base_uri": "https://localhost:8080/"
        },
        "id": "vvLRKeOwvdtS",
        "outputId": "7c0ff237-96ec-4293-f1b7-8f3dc3c8f414"
      },
      "execution_count": 3,
      "outputs": [
        {
          "output_type": "stream",
          "name": "stdout",
          "text": [
            "Enter the number of customers: 5\n",
            "Enter the height (inches) of customer 1: 78\n",
            "Enter the height (inches) of customer 2: 89\n",
            "Enter the height (inches) of customer 3: 56\n",
            "Enter the height (inches) of customer 4: 89\n",
            "Enter the height (inches) of customer 5: 34\n",
            "Heights in CM (Using Nested Loop): [198.12, 226.06, 142.24, 226.06, 86.36]\n",
            "Heights in CM (Using List Comprehension): [198.12, 226.06, 142.24, 226.06, 86.36]\n"
          ]
        }
      ]
    }
  ]
}