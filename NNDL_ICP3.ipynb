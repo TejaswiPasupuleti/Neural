{
  "nbformat": 4,
  "nbformat_minor": 0,
  "metadata": {
    "colab": {
      "provenance": []
    },
    "kernelspec": {
      "name": "python3",
      "display_name": "Python 3"
    },
    "language_info": {
      "name": "python"
    }
  },
  "cells": [
    {
      "cell_type": "markdown",
      "source": [
        "1. Create a class Employee and then do the following\n",
        "• Create a data member to count the number of Employees\n",
        "• Create a constructor to initialize name, family, salary, department\n",
        "• Create a function to average salary\n",
        "• Create a Fulltime Employee class and it should inherit the properties of Employee class\n",
        "• Create the instances of Fulltime Employee class and Employee class and call their member functions."
      ],
      "metadata": {
        "id": "fU2-hkNW8Hua"
      }
    },
    {
      "cell_type": "code",
      "execution_count": 2,
      "metadata": {
        "colab": {
          "base_uri": "https://localhost:8080/"
        },
        "id": "fOLRop6v7_vp",
        "outputId": "1bc8e04f-a1cc-4998-f555-ff1560f43459"
      },
      "outputs": [
        {
          "output_type": "stream",
          "name": "stdout",
          "text": [
            "enter number of employees1\n",
            "enter nametejaswi pasupuleti\n",
            "enter how many family members4\n",
            "enter salary6000\n",
            "enter departmentCSE\n",
            "enter Full time employees1\n",
            "enter nametejaswi\n",
            "enter how many family members2\n",
            "enter salary5500\n",
            "enter departmentECE\n",
            "The total Number of Employees(employee+Fulltime employee): 2\n",
            "the average salary of the all the Employees(employee+Fulltime employee): 5750.0\n"
          ]
        }
      ],
      "source": [
        "class Employee:\n",
        "  def __init__(self):  #constructor for name,family,salary and Department.\n",
        "        self.name =\"Tejaswi \"\n",
        "        self.family =4\n",
        "        self.salary=9765\n",
        "        self.department=\"CSE\"\n",
        "  def __init__(self,name,family,salary,department):\n",
        "        self.name =name\n",
        "        self.family =family\n",
        "        self.salary=salary\n",
        "        self.department=department\n",
        "\n",
        "  def count_emp(self,emp1,fullemp1):\n",
        "        print(\"The total Number of Employees(employee+Fulltime employee):\",len(emp1+fullemp1)) #counting number of employees.\n",
        "\n",
        "  def avg_salary(self,emp1,fullemp1):  #function for calculating the average salaryof all employees.\n",
        "       su=0\n",
        "       for i in emp1:\n",
        "           su=su+i.salary\n",
        "       for i in fullemp1:\n",
        "            su=su+i.salary\n",
        "       print(\"the average salary of the all the Employees(employee+Fulltime employee):\",su/2)\n",
        "class Fulltime_Employee(Employee):\n",
        "    pass\n",
        "n=int(input(\"enter number of employees\"))\n",
        "pe=[]\n",
        "for i in range(0,n):  #using for() loop,take the input dynamically.\n",
        "    na=input(\"enter name\")\n",
        "    f=int(input(\"enter how many family members\"))\n",
        "    s=int(input(\"enter salary\"))\n",
        "    d=input(\"enter department\")\n",
        "    obj=Employee(na,f,s,d)\n",
        "    pe.append(obj)\n",
        "full=int(input(\"enter Full time employees\"))\n",
        "fe=[]\n",
        "for i in range(0,full):\n",
        "    na=input(\"enter name\")\n",
        "    f=int(input(\"enter how many family members\"))\n",
        "    s=int(input(\"enter salary\"))\n",
        "    d=input(\"enter department\")\n",
        "    obj=Fulltime_Employee(na,f,s,d)\n",
        "    fe.append(obj)\n",
        "\n",
        "result=Fulltime_Employee(na,f,s,d)\n",
        "result.count_emp(pe,fe) #function call\n",
        "result.avg_salary(pe,fe) #function call"
      ]
    },
    {
      "cell_type": "markdown",
      "source": [
        "2. Numpy\n",
        "Using NumPy create random vector of size 20 having only float in the range 1-20.\n",
        "Then reshape the array to 4 by 5\n",
        "Then replace the max in each row by 0 (axis=1)\n",
        "(you can NOT implement it via for loop)\n"
      ],
      "metadata": {
        "id": "hrH_eDBR85A4"
      }
    },
    {
      "cell_type": "code",
      "source": [
        "import numpy as np #import numpy\n",
        "x = np.arange(1,21,dtype=float) #vector of size 1-20\n",
        "print(\"Vector :\",x)\n",
        "x=x.reshape(4,5) #use reshape() to reshape the array into 4*5\n",
        "print(\"Then reshape the array to 4 by 5:\",x)\n",
        "def replace(x):\n",
        "    a=x\n",
        "    a[:,np.argmax(x, axis=1)] = 0\n",
        "    return a\n",
        "result= replace(x)\n",
        "print(\"replace the max in each row by 0 (axis=1):\",result)"
      ],
      "metadata": {
        "colab": {
          "base_uri": "https://localhost:8080/"
        },
        "id": "yVcFhW-78Z1k",
        "outputId": "b920535d-76ba-4f99-959a-7fca6dc4fccc"
      },
      "execution_count": 3,
      "outputs": [
        {
          "output_type": "stream",
          "name": "stdout",
          "text": [
            "Vector : [ 1.  2.  3.  4.  5.  6.  7.  8.  9. 10. 11. 12. 13. 14. 15. 16. 17. 18.\n",
            " 19. 20.]\n",
            "Then reshape the array to 4 by 5: [[ 1.  2.  3.  4.  5.]\n",
            " [ 6.  7.  8.  9. 10.]\n",
            " [11. 12. 13. 14. 15.]\n",
            " [16. 17. 18. 19. 20.]]\n",
            "replace the max in each row by 0 (axis=1): [[ 1.  2.  3.  4.  0.]\n",
            " [ 6.  7.  8.  9.  0.]\n",
            " [11. 12. 13. 14.  0.]\n",
            " [16. 17. 18. 19.  0.]]\n"
          ]
        }
      ]
    }
  ]
}